{
 "cells": [
  {
   "cell_type": "markdown",
   "metadata": {},
   "source": [
    "# Tweaking A Model "
   ]
  },
  {
   "cell_type": "markdown",
   "metadata": {},
   "source": [
    "In this Notebook, we focus on a number of tweaks that we can apply to our model to yield better results. <br>\n",
    "\n",
    "-Vocabulary Size <br>\n",
    "-Input Length ( Where to truncate ?) <br>\n",
    "-Padding (Before or After) <br>\n",
    "-Number of Embedding dimesions <br>\n",
    "-Flatten Vs Global Average Pooling "
   ]
  },
  {
   "cell_type": "markdown",
   "metadata": {},
   "source": [
    "# Setup"
   ]
  },
  {
   "cell_type": "code",
   "execution_count": 4,
   "metadata": {},
   "outputs": [],
   "source": [
    "import numpy as np\n",
    "import pandas as pd\n",
    "import tensorflow as tf\n",
    "from tensorflow.keras.preprocessing.text import Tokenizer\n",
    "from tensorflow.keras.preprocessing.sequence import pad_sequences"
   ]
  },
  {
   "cell_type": "markdown",
   "metadata": {},
   "source": [
    "# The Dataset"
   ]
  },
  {
   "cell_type": "markdown",
   "metadata": {},
   "source": [
    "We shall be using a dataset containing Amazon and Yelp reviews"
   ]
  },
  {
   "cell_type": "code",
   "execution_count": 5,
   "metadata": {},
   "outputs": [
    {
     "name": "stdout",
     "output_type": "stream",
     "text": [
      "/Users/apple/.keras/datasets/reviews.csv\n"
     ]
    }
   ],
   "source": [
    "path = tf.keras.utils.get_file('reviews.csv', \n",
    "                               'https://drive.google.com/uc?id=13ySLC_ue6Umt9RJYSeM2t-V0kCv-4C-P')\n",
    "print (path)"
   ]
  },
  {
   "cell_type": "code",
   "execution_count": 6,
   "metadata": {},
   "outputs": [
    {
     "data": {
      "text/html": [
       "<div>\n",
       "<style scoped>\n",
       "    .dataframe tbody tr th:only-of-type {\n",
       "        vertical-align: middle;\n",
       "    }\n",
       "\n",
       "    .dataframe tbody tr th {\n",
       "        vertical-align: top;\n",
       "    }\n",
       "\n",
       "    .dataframe thead th {\n",
       "        text-align: right;\n",
       "    }\n",
       "</style>\n",
       "<table border=\"1\" class=\"dataframe\">\n",
       "  <thead>\n",
       "    <tr style=\"text-align: right;\">\n",
       "      <th></th>\n",
       "      <th>Unnamed: 0</th>\n",
       "      <th>text</th>\n",
       "      <th>sentiment</th>\n",
       "    </tr>\n",
       "  </thead>\n",
       "  <tbody>\n",
       "    <tr>\n",
       "      <th>0</th>\n",
       "      <td>0</td>\n",
       "      <td>So there is no way for me to plug it in here i...</td>\n",
       "      <td>0</td>\n",
       "    </tr>\n",
       "    <tr>\n",
       "      <th>1</th>\n",
       "      <td>1</td>\n",
       "      <td>Good case Excellent value.</td>\n",
       "      <td>1</td>\n",
       "    </tr>\n",
       "    <tr>\n",
       "      <th>2</th>\n",
       "      <td>2</td>\n",
       "      <td>Great for the jawbone.</td>\n",
       "      <td>1</td>\n",
       "    </tr>\n",
       "    <tr>\n",
       "      <th>3</th>\n",
       "      <td>3</td>\n",
       "      <td>Tied to charger for conversations lasting more...</td>\n",
       "      <td>0</td>\n",
       "    </tr>\n",
       "    <tr>\n",
       "      <th>4</th>\n",
       "      <td>4</td>\n",
       "      <td>The mic is great.</td>\n",
       "      <td>1</td>\n",
       "    </tr>\n",
       "  </tbody>\n",
       "</table>\n",
       "</div>"
      ],
      "text/plain": [
       "   Unnamed: 0                                               text  sentiment\n",
       "0           0  So there is no way for me to plug it in here i...          0\n",
       "1           1                         Good case Excellent value.          1\n",
       "2           2                             Great for the jawbone.          1\n",
       "3           3  Tied to charger for conversations lasting more...          0\n",
       "4           4                                  The mic is great.          1"
      ]
     },
     "execution_count": 6,
     "metadata": {},
     "output_type": "execute_result"
    }
   ],
   "source": [
    "# Read the csv file\n",
    "dataset = pd.read_csv(path)\n",
    "\n",
    "# Review the first few entries in the dataset\n",
    "dataset.head()"
   ]
  },
  {
   "cell_type": "markdown",
   "metadata": {},
   "source": [
    "# Split Dataset into Training & Testing "
   ]
  },
  {
   "cell_type": "code",
   "execution_count": 7,
   "metadata": {},
   "outputs": [],
   "source": [
    "sentences = dataset['text'].tolist()\n",
    "labels = dataset['sentiment'].tolist()\n",
    "\n",
    "# Separate out the sentences and labels into training and test sets\n",
    "training_size = int(len(sentences) * 0.8)\n",
    "\n",
    "training_sentences = sentences[0:training_size]\n",
    "testing_sentences = sentences[training_size:]\n",
    "training_labels = labels[0:training_size]\n",
    "testing_labels = labels[training_size:]\n",
    "\n",
    "# Make labels into numpy arrays for use with the network later\n",
    "training_labels_final = np.array(training_labels)\n",
    "testing_labels_final = np.array(testing_labels)"
   ]
  },
  {
   "cell_type": "markdown",
   "metadata": {},
   "source": [
    "# Tokenization ( with Tweaks )"
   ]
  },
  {
   "cell_type": "markdown",
   "metadata": {},
   "source": [
    "Initial Settings : <br><br>\n",
    "vocab_size = 1000 <br>\n",
    "embedding_dim = 16 <br>\n",
    "max_length = 100 <br>\n",
    "trunc_type='post' <br>\n",
    "padding_type='post'"
   ]
  },
  {
   "cell_type": "markdown",
   "metadata": {},
   "source": [
    "Will these tweaks have any significant effect on our model ?? "
   ]
  },
  {
   "cell_type": "code",
   "execution_count": 8,
   "metadata": {},
   "outputs": [],
   "source": [
    "vocab_size = 500\n",
    "embedding_dim = 16\n",
    "max_length = 50\n",
    "trunc_type='post'\n",
    "padding_type='post'\n",
    "oov_tok = \"<OOV>\"\n",
    "\n",
    "tokenizer = Tokenizer(num_words = vocab_size, oov_token=oov_tok)\n",
    "tokenizer.fit_on_texts(training_sentences)\n",
    "word_index = tokenizer.word_index\n",
    "training_sequences = tokenizer.texts_to_sequences(training_sentences)\n",
    "training_padded = pad_sequences(training_sequences, maxlen=max_length, padding=padding_type, truncating=trunc_type)\n",
    "\n",
    "testing_sequences = tokenizer.texts_to_sequences(testing_sentences)\n",
    "testing_padded = pad_sequences(testing_sequences, maxlen=max_length, padding=padding_type, truncating=trunc_type)"
   ]
  },
  {
   "cell_type": "markdown",
   "metadata": {},
   "source": [
    "# Train a Sentiment Model (with tweaks)"
   ]
  },
  {
   "cell_type": "code",
   "execution_count": 9,
   "metadata": {},
   "outputs": [
    {
     "name": "stdout",
     "output_type": "stream",
     "text": [
      "Model: \"sequential\"\n",
      "_________________________________________________________________\n",
      "Layer (type)                 Output Shape              Param #   \n",
      "=================================================================\n",
      "embedding (Embedding)        (None, 50, 16)            8000      \n",
      "_________________________________________________________________\n",
      "global_average_pooling1d (Gl (None, 16)                0         \n",
      "_________________________________________________________________\n",
      "dense (Dense)                (None, 6)                 102       \n",
      "_________________________________________________________________\n",
      "dense_1 (Dense)              (None, 1)                 7         \n",
      "=================================================================\n",
      "Total params: 8,109\n",
      "Trainable params: 8,109\n",
      "Non-trainable params: 0\n",
      "_________________________________________________________________\n"
     ]
    }
   ],
   "source": [
    "# We added a GlobalAveragePooling1D layer instead of Flatten \n",
    "model = tf.keras.Sequential([\n",
    "    tf.keras.layers.Embedding(vocab_size, embedding_dim, input_length=max_length),\n",
    "    tf.keras.layers.GlobalAveragePooling1D(),\n",
    "    tf.keras.layers.Dense(6, activation='relu'),\n",
    "    tf.keras.layers.Dense(1, activation='sigmoid')\n",
    "])\n",
    "model.compile(loss='binary_crossentropy',optimizer='adam',metrics=['accuracy'])\n",
    "model.summary()"
   ]
  },
  {
   "cell_type": "code",
   "execution_count": 10,
   "metadata": {},
   "outputs": [
    {
     "name": "stdout",
     "output_type": "stream",
     "text": [
      "Train on 1593 samples, validate on 399 samples\n",
      "Epoch 1/30\n",
      "1593/1593 [==============================] - 1s 599us/sample - loss: 0.6919 - accuracy: 0.5355 - val_loss: 0.6972 - val_accuracy: 0.4110\n",
      "Epoch 2/30\n",
      "1593/1593 [==============================] - 0s 75us/sample - loss: 0.6890 - accuracy: 0.5229 - val_loss: 0.6979 - val_accuracy: 0.4135\n",
      "Epoch 3/30\n",
      "1593/1593 [==============================] - 0s 77us/sample - loss: 0.6858 - accuracy: 0.5468 - val_loss: 0.6956 - val_accuracy: 0.4336\n",
      "Epoch 4/30\n",
      "1593/1593 [==============================] - 0s 72us/sample - loss: 0.6797 - accuracy: 0.5756 - val_loss: 0.6882 - val_accuracy: 0.4937\n",
      "Epoch 5/30\n",
      "1593/1593 [==============================] - 0s 74us/sample - loss: 0.6710 - accuracy: 0.6133 - val_loss: 0.6792 - val_accuracy: 0.5514\n",
      "Epoch 6/30\n",
      "1593/1593 [==============================] - 0s 73us/sample - loss: 0.6581 - accuracy: 0.6736 - val_loss: 0.6708 - val_accuracy: 0.5589\n",
      "Epoch 7/30\n",
      "1593/1593 [==============================] - 0s 71us/sample - loss: 0.6420 - accuracy: 0.7056 - val_loss: 0.6583 - val_accuracy: 0.5965\n",
      "Epoch 8/30\n",
      "1593/1593 [==============================] - 0s 71us/sample - loss: 0.6188 - accuracy: 0.7395 - val_loss: 0.6341 - val_accuracy: 0.6692\n",
      "Epoch 9/30\n",
      "1593/1593 [==============================] - 0s 71us/sample - loss: 0.5925 - accuracy: 0.7684 - val_loss: 0.6128 - val_accuracy: 0.7419\n",
      "Epoch 10/30\n",
      "1593/1593 [==============================] - 0s 72us/sample - loss: 0.5644 - accuracy: 0.7866 - val_loss: 0.6140 - val_accuracy: 0.6341\n",
      "Epoch 11/30\n",
      "1593/1593 [==============================] - 0s 72us/sample - loss: 0.5336 - accuracy: 0.8098 - val_loss: 0.5808 - val_accuracy: 0.7168\n",
      "Epoch 12/30\n",
      "1593/1593 [==============================] - 0s 73us/sample - loss: 0.5031 - accuracy: 0.8280 - val_loss: 0.5643 - val_accuracy: 0.7268\n",
      "Epoch 13/30\n",
      "1593/1593 [==============================] - 0s 73us/sample - loss: 0.4745 - accuracy: 0.8293 - val_loss: 0.5472 - val_accuracy: 0.7444\n",
      "Epoch 14/30\n",
      "1593/1593 [==============================] - 0s 73us/sample - loss: 0.4475 - accuracy: 0.8412 - val_loss: 0.5192 - val_accuracy: 0.7820\n",
      "Epoch 15/30\n",
      "1593/1593 [==============================] - 0s 75us/sample - loss: 0.4229 - accuracy: 0.8487 - val_loss: 0.5236 - val_accuracy: 0.7419\n",
      "Epoch 16/30\n",
      "1593/1593 [==============================] - 0s 73us/sample - loss: 0.4020 - accuracy: 0.8562 - val_loss: 0.5386 - val_accuracy: 0.7068\n",
      "Epoch 17/30\n",
      "1593/1593 [==============================] - 0s 70us/sample - loss: 0.3841 - accuracy: 0.8562 - val_loss: 0.5008 - val_accuracy: 0.7744\n",
      "Epoch 18/30\n",
      "1593/1593 [==============================] - 0s 72us/sample - loss: 0.3644 - accuracy: 0.8707 - val_loss: 0.4935 - val_accuracy: 0.7794\n",
      "Epoch 19/30\n",
      "1593/1593 [==============================] - 0s 73us/sample - loss: 0.3498 - accuracy: 0.8726 - val_loss: 0.4906 - val_accuracy: 0.7794\n",
      "Epoch 20/30\n",
      "1593/1593 [==============================] - 0s 75us/sample - loss: 0.3349 - accuracy: 0.8745 - val_loss: 0.5019 - val_accuracy: 0.7419\n",
      "Epoch 21/30\n",
      "1593/1593 [==============================] - 0s 72us/sample - loss: 0.3236 - accuracy: 0.8776 - val_loss: 0.4973 - val_accuracy: 0.7519\n",
      "Epoch 22/30\n",
      "1593/1593 [==============================] - 0s 72us/sample - loss: 0.3117 - accuracy: 0.8820 - val_loss: 0.5148 - val_accuracy: 0.7218\n",
      "Epoch 23/30\n",
      "1593/1593 [==============================] - 0s 71us/sample - loss: 0.2997 - accuracy: 0.8851 - val_loss: 0.4747 - val_accuracy: 0.7945\n",
      "Epoch 24/30\n",
      "1593/1593 [==============================] - 0s 72us/sample - loss: 0.2907 - accuracy: 0.8889 - val_loss: 0.4852 - val_accuracy: 0.7744\n",
      "Epoch 25/30\n",
      "1593/1593 [==============================] - 0s 75us/sample - loss: 0.2836 - accuracy: 0.8914 - val_loss: 0.5015 - val_accuracy: 0.7343\n",
      "Epoch 26/30\n",
      "1593/1593 [==============================] - 0s 73us/sample - loss: 0.2739 - accuracy: 0.9014 - val_loss: 0.4807 - val_accuracy: 0.7744\n",
      "Epoch 27/30\n",
      "1593/1593 [==============================] - 0s 76us/sample - loss: 0.2690 - accuracy: 0.8952 - val_loss: 0.5276 - val_accuracy: 0.7293\n",
      "Epoch 28/30\n",
      "1593/1593 [==============================] - 0s 72us/sample - loss: 0.2609 - accuracy: 0.9008 - val_loss: 0.5241 - val_accuracy: 0.7293\n",
      "Epoch 29/30\n",
      "1593/1593 [==============================] - 0s 80us/sample - loss: 0.2551 - accuracy: 0.8989 - val_loss: 0.4892 - val_accuracy: 0.7694\n",
      "Epoch 30/30\n",
      "1593/1593 [==============================] - 0s 72us/sample - loss: 0.2477 - accuracy: 0.9021 - val_loss: 0.5165 - val_accuracy: 0.7343\n"
     ]
    }
   ],
   "source": [
    "num_epochs = 30\n",
    "history = model.fit(training_padded, training_labels_final, epochs=num_epochs, validation_data=(testing_padded, testing_labels_final))"
   ]
  },
  {
   "cell_type": "markdown",
   "metadata": {},
   "source": [
    "# Visualize the training graph"
   ]
  },
  {
   "cell_type": "markdown",
   "metadata": {},
   "source": [
    "We use the code below to visualize the training and validation accuracy while we try out different tweaks to the hyperparameters and model."
   ]
  },
  {
   "cell_type": "code",
   "execution_count": 11,
   "metadata": {},
   "outputs": [
    {
     "data": {
      "image/png": "[encoded data removed]",
      "text/plain": [
       "<Figure size 432x288 with 1 Axes>"
      ]
     },
     "metadata": {
      "needs_background": "light"
     },
     "output_type": "display_data"
    },
    {
     "data": {
      "image/png": "[encoded data removed]",
      "text/plain": [
       "<Figure size 432x288 with 1 Axes>"
      ]
     },
     "metadata": {
      "needs_background": "light"
     },
     "output_type": "display_data"
    }
   ],
   "source": [
    "import matplotlib.pyplot as plt\n",
    "\n",
    "\n",
    "def plot_graphs(history, string):\n",
    "  plt.plot(history.history[string])\n",
    "  plt.plot(history.history['val_'+string])\n",
    "  plt.xlabel(\"Epochs\")\n",
    "  plt.ylabel(string)\n",
    "  plt.legend([string, 'val_'+string])\n",
    "  plt.show()\n",
    "  \n",
    "plot_graphs(history, \"accuracy\")\n",
    "plot_graphs(history, \"loss\")"
   ]
  },
  {
   "cell_type": "markdown",
   "metadata": {},
   "source": [
    "# Get files for visualizing the network"
   ]
  },
  {
   "cell_type": "markdown",
   "metadata": {},
   "source": [
    "The code below will download two files for visualizing how your network \"sees\" the sentiment related to each word. Head to http://projector.tensorflow.org/ and load these files, then click the checkbox to \"sphereize\" the data.\n",
    "\n",
    "Note: You may run into errors with the projection if your vocab_size earlier was larger than the actual number of words in the vocabulary, in which case you'll need to decrease this variable and re-train in order to visualize."
   ]
  },
  {
   "cell_type": "code",
   "execution_count": 12,
   "metadata": {},
   "outputs": [
    {
     "name": "stdout",
     "output_type": "stream",
     "text": [
      "(500, 16)\n"
     ]
    }
   ],
   "source": [
    "# First get the weights of the embedding layer\n",
    "e = model.layers[0]\n",
    "weights = e.get_weights()[0]\n",
    "print(weights.shape) # shape: (vocab_size, embedding_dim)"
   ]
  },
  {
   "cell_type": "code",
   "execution_count": 13,
   "metadata": {},
   "outputs": [],
   "source": [
    "import io\n",
    "\n",
    "# Create the reverse word index\n",
    "reverse_word_index = dict([(value, key) for (key, value) in word_index.items()])\n",
    "\n",
    "# Write out the embedding vectors and metadata\n",
    "out_v = io.open('vecs.tsv', 'w', encoding='utf-8')\n",
    "out_m = io.open('meta.tsv', 'w', encoding='utf-8')\n",
    "for word_num in range(1, vocab_size):\n",
    "  word = reverse_word_index[word_num]\n",
    "  embeddings = weights[word_num]\n",
    "  out_m.write(word + \"\\n\")\n",
    "  out_v.write('\\t'.join([str(x) for x in embeddings]) + \"\\n\")\n",
    "out_v.close()\n",
    "out_m.close()"
   ]
  },
  {
   "cell_type": "code",
   "execution_count": 14,
   "metadata": {},
   "outputs": [],
   "source": [
    "# Download the files\n",
    "try:\n",
    "  from google.colab import files\n",
    "except ImportError:\n",
    "  pass\n",
    "else:\n",
    "  files.download('vecs.tsv')\n",
    "  files.download('meta.tsv')"
   ]
  },
  {
   "cell_type": "markdown",
   "metadata": {},
   "source": [
    "# Predicting Sentiment in New Reviews"
   ]
  },
  {
   "cell_type": "code",
   "execution_count": 23,
   "metadata": {},
   "outputs": [
    {
     "name": "stdout",
     "output_type": "stream",
     "text": [
      "['I love this version of the PS4', 'This game belongs in the trash', 'Very bad Service', 'Excellent Service', 'It really upset me', 'Great Service', 'I had a wonderful experience', 'This is exactly what i wanted', 'Very difficult to Understand', 'I hate Jollof Rice', 'Everything was cold', 'Everything was hot exactly as I wanted', 'Everything was green', 'the host seated us immediately', 'they gave us free chocolate cake', 'not sure about the wilted flowers on the table', 'only works when I stand on tippy toes', 'does not work when I stand on my head', 'I hate this book']\n",
      "\n",
      "SENTIMENT ANALYSIS OF SOME RANDOM REVIEWS!\n",
      "\n",
      "I love this version of the PS4\n",
      "[0.9127534]\n",
      "\n",
      "\n",
      "This game belongs in the trash\n",
      "[0.3777342]\n",
      "\n",
      "\n",
      "Very bad Service\n",
      "[0.08951107]\n",
      "\n",
      "\n",
      "Excellent Service\n",
      "[0.9033774]\n",
      "\n",
      "\n",
      "It really upset me\n",
      "[0.31489146]\n",
      "\n",
      "\n",
      "Great Service\n",
      "[0.9532703]\n",
      "\n",
      "\n",
      "I had a wonderful experience\n",
      "[0.6235594]\n",
      "\n",
      "\n",
      "This is exactly what i wanted\n",
      "[0.48269957]\n",
      "\n",
      "\n",
      "Very difficult to Understand\n",
      "[0.18307616]\n",
      "\n",
      "\n",
      "I hate Jollof Rice\n",
      "[0.15590039]\n",
      "\n",
      "\n",
      "Everything was cold\n",
      "[0.6361736]\n",
      "\n",
      "\n",
      "Everything was hot exactly as I wanted\n",
      "[0.45962572]\n",
      "\n",
      "\n",
      "Everything was green\n",
      "[0.6361736]\n",
      "\n",
      "\n",
      "the host seated us immediately\n",
      "[0.6250049]\n",
      "\n",
      "\n",
      "they gave us free chocolate cake\n",
      "[0.8867968]\n",
      "\n",
      "\n",
      "not sure about the wilted flowers on the table\n",
      "[0.08901352]\n",
      "\n",
      "\n",
      "only works when I stand on tippy toes\n",
      "[0.8956366]\n",
      "\n",
      "\n",
      "does not work when I stand on my head\n",
      "[0.02465594]\n",
      "\n",
      "\n",
      "I hate this book\n",
      "[0.15101522]\n",
      "\n",
      "\n"
     ]
    }
   ],
   "source": [
    "# Use the model to predict a review   \n",
    "fake_reviews = ['I love this version of the PS4',\n",
    "                'This game belongs in the trash',\n",
    "                'Very bad Service',\n",
    "                'Excellent Service',\n",
    "                'It really upset me',\n",
    "                'Great Service',\n",
    "                'I had a wonderful experience',\n",
    "                'This is exactly what i wanted',\n",
    "                'Very difficult to Understand',\n",
    "                'I hate Jollof Rice', \n",
    "                'Everything was cold',\n",
    "                'Everything was hot exactly as I wanted', \n",
    "                'Everything was green', \n",
    "                'the host seated us immediately',\n",
    "                'they gave us free chocolate cake', \n",
    "                'not sure about the wilted flowers on the table',\n",
    "                'only works when I stand on tippy toes', \n",
    "                'does not work when I stand on my head',\n",
    "                'I hate this book']\n",
    "\n",
    "print(fake_reviews) \n",
    "\n",
    "# Create the sequences\n",
    "padding_type='post'\n",
    "sample_sequences = tokenizer.texts_to_sequences(fake_reviews)\n",
    "fakes_padded = pad_sequences(sample_sequences, padding=padding_type, maxlen=max_length)           \n",
    "\n",
    "print('\\nSENTIMENT ANALYSIS OF SOME RANDOM REVIEWS!\\n')              \n",
    "\n",
    "classes = model.predict(fakes_padded)\n",
    "\n",
    "# The closer the class is to 1, the more positive the review is deemed to be\n",
    "for x in range(len(fake_reviews)):\n",
    "  print(fake_reviews[x])\n",
    "  print(classes[x])\n",
    "  print('\\n')\n",
    "\n",
    "# Try adding reviews of your own\n",
    "# Add some negative words (such as \"not\") to the good reviews and see what happens\n",
    "# For example:\n",
    "# they gave us free chocolate cake and did not charge us"
   ]
  },
  {
   "cell_type": "code",
   "execution_count": null,
   "metadata": {},
   "outputs": [],
   "source": []
  }
 ],
 "metadata": {
  "kernelspec": {
   "display_name": "Python [conda env:py3-TF2.0]",
   "language": "python",
   "name": "conda-env-py3-TF2.0-py"
  },
  "language_info": {
   "codemirror_mode": {
    "name": "ipython",
    "version": 3
   },
   "file_extension": ".py",
   "mimetype": "text/x-python",
   "name": "python",
   "nbconvert_exporter": "python",
   "pygments_lexer": "ipython3",
   "version": "3.7.7"
  }
 },
 "nbformat": 4,
 "nbformat_minor": 4
}
